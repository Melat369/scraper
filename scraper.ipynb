{
 "cells": [
  {
   "cell_type": "code",
   "execution_count": null,
   "metadata": {},
   "outputs": [],
   "source": [
    "from bs4 import BeautifulSoup\n",
    "import requests\n",
    "import csv"
   ]
  },
  {
   "cell_type": "code",
   "execution_count": null,
   "metadata": {},
   "outputs": [],
   "source": [
    "pageToScrape = requests.get(\"https://quotes.toscrape.com/\")\n",
    "soupToPase = BeautifulSoup(pageToScrape.text, \"html.parser\")\n"
   ]
  },
  {
   "cell_type": "code",
   "execution_count": null,
   "metadata": {},
   "outputs": [],
   "source": [
    "quotes = soupToPase.find_all(\"span\", class_=\"text\")\n",
    "authors = soupToPase.find_all(\"small\", class_=\"author\")"
   ]
  },
  {
   "cell_type": "code",
   "execution_count": null,
   "metadata": {},
   "outputs": [],
   "source": [
    "file = open(\"ScrapedQuotes.csv\", \"w\")\n",
    "writer = csv.writer(file)\n",
    "writer.writerow([\"QUOTES\", \"AUTHORS\"])"
   ]
  },
  {
   "cell_type": "code",
   "execution_count": null,
   "metadata": {},
   "outputs": [],
   "source": [
    "for quote,author in zip(quotes, authors):\n",
    "    print(quote.text+\" - \"+ author.text)\n",
    "    writer.writerow([quote.text, author.text])\n",
    "file.close()"
   ]
  }
 ],
 "metadata": {
  "language_info": {
   "name": "python"
  },
  "orig_nbformat": 4
 },
 "nbformat": 4,
 "nbformat_minor": 2
}
